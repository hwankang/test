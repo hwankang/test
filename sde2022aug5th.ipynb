{
  "nbformat": 4,
  "nbformat_minor": 0,
  "metadata": {
    "colab": {
      "name": "sde2022aug5th.ipynb",
      "private_outputs": true,
      "provenance": [],
      "authorship_tag": "ABX9TyO4krkhIy38Cs06sffTHciL",
      "include_colab_link": true
    },
    "kernelspec": {
      "name": "python3",
      "display_name": "Python 3"
    },
    "language_info": {
      "name": "python"
    }
  },
  "cells": [
    {
      "cell_type": "markdown",
      "metadata": {
        "id": "view-in-github",
        "colab_type": "text"
      },
      "source": [
        "<a href=\"https://colab.research.google.com/github/hwankang/test/blob/gh-pages/sde2022aug5th.ipynb\" target=\"_parent\"><img src=\"https://colab.research.google.com/assets/colab-badge.svg\" alt=\"Open In Colab\"/></a>"
      ]
    },
    {
      "cell_type": "code",
      "execution_count": null,
      "metadata": {
        "id": "sePLQcJ3RCLW"
      },
      "outputs": [],
      "source": [
        "import numpy as np "
      ]
    },
    {
      "cell_type": "code",
      "source": [
        "s0 = 1.0; mu=0.05; sigma =0.1"
      ],
      "metadata": {
        "id": "4pN71AL_RIQj"
      },
      "execution_count": null,
      "outputs": []
    },
    {
      "cell_type": "code",
      "source": [
        "tspan = np.linspace(0.0, 5.0, 5001)"
      ],
      "metadata": {
        "id": "rCxMouSjRWSh"
      },
      "execution_count": null,
      "outputs": []
    },
    {
      "cell_type": "code",
      "source": [
        "Wt = 0.5*np.random.randn(5001)"
      ],
      "metadata": {
        "id": "Q45JEmawR_dY"
      },
      "execution_count": null,
      "outputs": []
    },
    {
      "cell_type": "code",
      "source": [
        "st = s0 * np.exp((mu-0.5*sigma**2)*tspan+sigma*Wt)"
      ],
      "metadata": {
        "id": "Hij0tGIYRrsr"
      },
      "execution_count": null,
      "outputs": []
    },
    {
      "cell_type": "code",
      "source": [
        "import matplotlib.pyplot as plt\n",
        "plt.plot(tspan, st)"
      ],
      "metadata": {
        "id": "AEaOUMuzT9YS"
      },
      "execution_count": null,
      "outputs": []
    },
    {
      "cell_type": "code",
      "source": [
        ""
      ],
      "metadata": {
        "id": "7aKFI6g3Uubi"
      },
      "execution_count": null,
      "outputs": []
    }
  ]
}